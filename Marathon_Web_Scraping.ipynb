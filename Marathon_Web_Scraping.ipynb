{
 "cells": [
  {
   "cell_type": "code",
   "execution_count": 159,
   "metadata": {},
   "outputs": [],
   "source": [
    "import requests\n",
    "from bs4 import BeautifulSoup\n",
    "import pandas as pd"
   ]
  },
  {
   "cell_type": "code",
   "execution_count": 273,
   "metadata": {},
   "outputs": [],
   "source": [
    "base_url = 'https://www.runrocknroll.com/'\n",
    "race_pages = [\n",
    "        'Events/Nashville/The-Races/Marathon/2019-Results',\n",
    "        'Events/Nashville/The-Races/Marathon/2018-Results',\n",
    "        'Events/Nashville/The-Races/Marathon/2017-Results',\n",
    "        'Events/Nashville/The-Races/Marathon/2016-Results',\n",
    "        'Events/Nashville/The-Races/Half-Marathon/2019-Results',\n",
    "        'Events/Nashville/The-Races/Half-Marathon/2018-Results',\n",
    "        'Events/Nashville/The-Races/Half-Marathon/2017-Results',\n",
    "        'Events/Nashville/The-Races/Half-Marathon/2016-Results'\n",
    "    ]\n",
    "query_parameters = '?gender=&agegroup=&bib=&firstname=&lastname=&page='"
   ]
  },
  {
   "cell_type": "code",
   "execution_count": 254,
   "metadata": {},
   "outputs": [],
   "source": [
    "def table_append(table):\n",
    "    \"\"\"This function takes a soup.find object, iterates through the table lines and adds the\n",
    "    data in the table to a list\"\"\"\n",
    "    for tr in table.findAll('tr'):\n",
    "            table_row = []\n",
    "            for td in tr.findAll('td'):\n",
    "                if td == None:\n",
    "                    pass\n",
    "                else:    \n",
    "                    table_row.append(td.text)\n",
    "            data.append(table_row)"
   ]
  },
  {
   "cell_type": "code",
   "execution_count": 274,
   "metadata": {
    "scrolled": true
   },
   "outputs": [],
   "source": [
    "# To write each race in a csv in a 'data' folder at the same level as the notebook\n",
    "\n",
    "possible_pages = range(999)\n",
    "\n",
    "for race_url in race_pages:\n",
    "    \n",
    "    data = []\n",
    "\n",
    "    for i in possible_pages:\n",
    "        resp = requests.post(base_url + race_url + query_parameters + str(i+1))\n",
    "        soup = BeautifulSoup(resp.text, 'html.parser')\n",
    "        table = soup.find('table', {'class' : 'table'})\n",
    "        if soup.find('li', {'class': 'PagedList-skipToNext'}).find('a').get('href') == None:\n",
    "            table_append(table)\n",
    "            break\n",
    "        else:\n",
    "            table_append(table)\n",
    "\n",
    "    race_df = pd.DataFrame(data)\n",
    "    race_df.columns = ['Overall', 'Bib', 'Name', 'Time']\n",
    "    race_df = race_df.dropna(subset = ['Time'])\n",
    "    race = race_url.split('/')[-2] + '-' + race_url.split('/')[-1]\n",
    "    \n",
    "    race_df.to_csv(f'data/{race}.csv')"
   ]
  },
  {
   "cell_type": "code",
   "execution_count": 280,
   "metadata": {},
   "outputs": [],
   "source": [
    "# To write each race in an excel sheet in a workbook in a 'data' folder at the same level as the notebook\n",
    "\n",
    "with pd.ExcelWriter('data/marathon_data.xlsx') as writer:\n",
    "\n",
    "    possible_pages = range(999)\n",
    "\n",
    "    for race_url in race_pages:\n",
    "    \n",
    "        data = []\n",
    "\n",
    "        for i in possible_pages:\n",
    "            resp = requests.post(base_url + race_url + query_parameters + str(i+1))\n",
    "            soup = BeautifulSoup(resp.text, 'html.parser')\n",
    "            table = soup.find('table', {'class' : 'table'})\n",
    "            if soup.find('li', {'class': 'PagedList-skipToNext'}).find('a').get('href') == None:\n",
    "                table_append(table)\n",
    "                break\n",
    "            else:\n",
    "                table_append(table)\n",
    "\n",
    "        race_df = pd.DataFrame(data)\n",
    "        race_df.columns = ['Overall', 'Bib', 'Name', 'Time']\n",
    "        race_df = race_df.dropna(subset = ['Time'])\n",
    "        race = race_url.split('/')[-2] + '-' + race_url.split('/')[-1]\n",
    "    \n",
    "        race_df.to_excel(writer, index=False, sheet_name = f'{race}')"
   ]
  }
 ],
 "metadata": {
  "kernelspec": {
   "display_name": "Python 3",
   "language": "python",
   "name": "python3"
  },
  "language_info": {
   "codemirror_mode": {
    "name": "ipython",
    "version": 3
   },
   "file_extension": ".py",
   "mimetype": "text/x-python",
   "name": "python",
   "nbconvert_exporter": "python",
   "pygments_lexer": "ipython3",
   "version": "3.7.6"
  }
 },
 "nbformat": 4,
 "nbformat_minor": 4
}
