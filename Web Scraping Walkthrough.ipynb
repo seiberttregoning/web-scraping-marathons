{
 "cells": [
  {
   "cell_type": "markdown",
   "metadata": {},
   "source": [
    "# Get Repository Information via Web-Scraping"
   ]
  },
  {
   "cell_type": "markdown",
   "metadata": {},
   "source": [
    "---\n",
    "\n",
    "## Do the imports!"
   ]
  },
  {
   "cell_type": "code",
   "execution_count": 1,
   "metadata": {},
   "outputs": [],
   "source": [
    "import requests\n",
    "from bs4 import BeautifulSoup"
   ]
  },
  {
   "cell_type": "markdown",
   "metadata": {},
   "source": [
    "---\n",
    "\n",
    "## Assess the problem\n",
    "\n",
    "We are currently in the `NSS-Data-Analytics-Cohort-2` cohort. \n",
    "In GitHub, the repositories for this cohort can be found at https://github.com/NSS-Data-Analytics-Cohort-2.\n",
    "\n",
    "## The Goal\n",
    "1. Access every repository URL associated with the `NSS-Data-Analytics-Cohort-2` organization.\n",
    "2. For every repository..\n",
    "    * Number of Commits (for the master branch)\n",
    "    * Number of branches"
   ]
  },
  {
   "cell_type": "markdown",
   "metadata": {},
   "source": [
    "---\n",
    "\n",
    "## Goal 1\n",
    "Accessing the repository urls. \n",
    "In order to do this.. \n",
    "We will need to go through every repository page and grab the repositories.\n",
    "\n",
    "The first question is.. \n",
    "How many pages should we traverse?\n",
    "In order to answer this, we need to locate the pagination element on the main page, and see how many options there are to select. \n",
    "Specifically, we need to figure out what the last number is!"
   ]
  },
  {
   "cell_type": "code",
   "execution_count": 2,
   "metadata": {},
   "outputs": [],
   "source": [
    "# setting up the base URLs for the project\n",
    "GITHUB_URL = 'https://github.com'\n",
    "ORG_URL = f'{GITHUB_URL}/NSS-Data-Analytics-Cohort-2'"
   ]
  },
  {
   "cell_type": "code",
   "execution_count": 3,
   "metadata": {},
   "outputs": [
    {
     "name": "stdout",
     "output_type": "stream",
     "text": [
      "200\n"
     ]
    }
   ],
   "source": [
    "# pull data from the page\n",
    "resp = requests.get(ORG_URL)\n",
    "\n",
    "# We want the print statement to be 200\n",
    "print(resp.status_code)"
   ]
  },
  {
   "cell_type": "code",
   "execution_count": 4,
   "metadata": {},
   "outputs": [],
   "source": [
    "# Establish the \"soup\" object so we can traverse the website content\n",
    "soup = BeautifulSoup(resp.text, 'html.parser')"
   ]
  },
  {
   "cell_type": "markdown",
   "metadata": {},
   "source": [
    "---\n",
    "\n",
    "### Goal 1.A\n",
    "Figure out what the last page is!\n",
    "To do this, we need to access the pagination elements."
   ]
  },
  {
   "cell_type": "code",
   "execution_count": 5,
   "metadata": {},
   "outputs": [
    {
     "data": {
      "text/plain": [
       "2"
      ]
     },
     "execution_count": 5,
     "metadata": {},
     "output_type": "execute_result"
    }
   ],
   "source": [
    "# Now that we've created the soup.. Let's find the pagination elements.\n",
    "# Check the repositories page to find out what to look for!\n",
    "len(soup.findAll('div', {'class': 'pagination'}))"
   ]
  },
  {
   "cell_type": "code",
   "execution_count": 7,
   "metadata": {},
   "outputs": [
    {
     "name": "stdout",
     "output_type": "stream",
     "text": [
      "<div aria-label=\"Pagination\" class=\"pagination\" role=\"navigation\">\n",
      " <span class=\"previous_page disabled\">\n",
      "  Previous\n",
      " </span>\n",
      " <a class=\"next_page\" href=\"/NSS-Data-Analytics-Cohort-2?page=2\" rel=\"next\">\n",
      "  Next\n",
      " </a>\n",
      "</div>\n",
      "\n"
     ]
    }
   ],
   "source": [
    "# since `soup.findAll` returns a list of elements.. We need to extract the first result.\n",
    "pagination_elems = soup.findAll('div', {'class': 'pagination'})\n",
    "pagination_elem = pagination_elems[1]\n",
    "\n",
    "print(pagination_elem.prettify())"
   ]
  },
  {
   "cell_type": "code",
   "execution_count": 8,
   "metadata": {
    "scrolled": true
   },
   "outputs": [
    {
     "name": "stdout",
     "output_type": "stream",
     "text": [
      "<div aria-label=\"Pagination\" class=\"pagination\" role=\"navigation\">\n",
      " <span class=\"previous_page disabled\">\n",
      "  Previous\n",
      " </span>\n",
      " <em class=\"current\" data-total-pages=\"11\">\n",
      "  1\n",
      " </em>\n",
      " <a aria-label=\"Page 2\" href=\"/NSS-Data-Analytics-Cohort-2?page=2\" rel=\"next\">\n",
      "  2\n",
      " </a>\n",
      " <a aria-label=\"Page 3\" href=\"/NSS-Data-Analytics-Cohort-2?page=3\">\n",
      "  3\n",
      " </a>\n",
      " <a aria-label=\"Page 4\" href=\"/NSS-Data-Analytics-Cohort-2?page=4\">\n",
      "  4\n",
      " </a>\n",
      " <a aria-label=\"Page 5\" href=\"/NSS-Data-Analytics-Cohort-2?page=5\">\n",
      "  5\n",
      " </a>\n",
      " <span class=\"gap\">\n",
      "  …\n",
      " </span>\n",
      " <a aria-label=\"Page 10\" href=\"/NSS-Data-Analytics-Cohort-2?page=10\">\n",
      "  10\n",
      " </a>\n",
      " <a aria-label=\"Page 11\" href=\"/NSS-Data-Analytics-Cohort-2?page=11\">\n",
      "  11\n",
      " </a>\n",
      " <a class=\"next_page\" href=\"/NSS-Data-Analytics-Cohort-2?page=2\" rel=\"next\">\n",
      "  Next\n",
      " </a>\n",
      "</div>\n",
      "\n"
     ]
    }
   ],
   "source": [
    "# since `soup.findAll` returns a list of elements.. We need to extract the first result.\n",
    "pagination_elems = soup.findAll('div', {'class': 'pagination'})\n",
    "pagination_elem = pagination_elems[0]\n",
    "\n",
    "print(pagination_elem.prettify())"
   ]
  },
  {
   "cell_type": "code",
   "execution_count": 9,
   "metadata": {},
   "outputs": [
    {
     "data": {
      "text/plain": [
       "[<a aria-label=\"Page 2\" href=\"/NSS-Data-Analytics-Cohort-2?page=2\" rel=\"next\">2</a>,\n",
       " <a aria-label=\"Page 3\" href=\"/NSS-Data-Analytics-Cohort-2?page=3\">3</a>,\n",
       " <a aria-label=\"Page 4\" href=\"/NSS-Data-Analytics-Cohort-2?page=4\">4</a>,\n",
       " <a aria-label=\"Page 5\" href=\"/NSS-Data-Analytics-Cohort-2?page=5\">5</a>,\n",
       " <a aria-label=\"Page 10\" href=\"/NSS-Data-Analytics-Cohort-2?page=10\">10</a>,\n",
       " <a aria-label=\"Page 11\" href=\"/NSS-Data-Analytics-Cohort-2?page=11\">11</a>,\n",
       " <a class=\"next_page\" href=\"/NSS-Data-Analytics-Cohort-2?page=2\" rel=\"next\">Next</a>]"
      ]
     },
     "execution_count": 9,
     "metadata": {},
     "output_type": "execute_result"
    }
   ],
   "source": [
    "# now, let's get all of the links from the pagination element.\n",
    "links = pagination_elem.findAll('a')\n",
    "links"
   ]
  },
  {
   "cell_type": "code",
   "execution_count": 10,
   "metadata": {},
   "outputs": [
    {
     "data": {
      "text/plain": [
       "<a aria-label=\"Page 11\" href=\"/NSS-Data-Analytics-Cohort-2?page=11\">11</a>"
      ]
     },
     "execution_count": 10,
     "metadata": {},
     "output_type": "execute_result"
    }
   ],
   "source": [
    "# In our case.. We are interested in the link that represents the final page. \n",
    "# So, 2 from the back.\n",
    "final_page = links[-2]\n",
    "final_page"
   ]
  },
  {
   "cell_type": "code",
   "execution_count": 11,
   "metadata": {},
   "outputs": [
    {
     "data": {
      "text/plain": [
       "11"
      ]
     },
     "execution_count": 11,
     "metadata": {},
     "output_type": "execute_result"
    }
   ],
   "source": [
    "# Now, we can get the text, and convert to an integer.\n",
    "final_page_number = int(final_page.text)\n",
    "final_page_number"
   ]
  },
  {
   "cell_type": "markdown",
   "metadata": {},
   "source": [
    "---\n",
    "\n",
    "### Goal 1.B\n",
    "Now that we have the reference to the last page, we can use it to grab the links for all the pages.\n",
    "Speaking of which.. \n",
    "Notice the structure of the links from the pagination.\n",
    "\n",
    "Example: \n",
    "```\n",
    "/NSS-Data-Analytics-Cohort-2?page=3\n",
    "```\n",
    "\n",
    "It looks like if we want to be able to go through all the pages.. \n",
    "We would need to structure our links like the ones from the pagination links.\n",
    "\n",
    "So, our links should look like: \n",
    "```\n",
    "https://github.com/NSS-Data-Analytics-Cohort-2?page=1\n",
    "https://github.com/NSS-Data-Analytics-Cohort-2?page=2\n",
    "...\n",
    "https://github.com/NSS-Data-Analytics-Cohort-2?page=10\n",
    "```"
   ]
  },
  {
   "cell_type": "code",
   "execution_count": 12,
   "metadata": {},
   "outputs": [
    {
     "data": {
      "text/plain": [
       "['https://github.com/NSS-Data-Analytics-Cohort-2?page=1',\n",
       " 'https://github.com/NSS-Data-Analytics-Cohort-2?page=2',\n",
       " 'https://github.com/NSS-Data-Analytics-Cohort-2?page=3',\n",
       " 'https://github.com/NSS-Data-Analytics-Cohort-2?page=4',\n",
       " 'https://github.com/NSS-Data-Analytics-Cohort-2?page=5',\n",
       " 'https://github.com/NSS-Data-Analytics-Cohort-2?page=6',\n",
       " 'https://github.com/NSS-Data-Analytics-Cohort-2?page=7',\n",
       " 'https://github.com/NSS-Data-Analytics-Cohort-2?page=8',\n",
       " 'https://github.com/NSS-Data-Analytics-Cohort-2?page=9',\n",
       " 'https://github.com/NSS-Data-Analytics-Cohort-2?page=10',\n",
       " 'https://github.com/NSS-Data-Analytics-Cohort-2?page=11']"
      ]
     },
     "execution_count": 12,
     "metadata": {},
     "output_type": "execute_result"
    }
   ],
   "source": [
    "# Use a list comprehension to build our structures!\n",
    "repo_pages = [f'{ORG_URL}?page={i+1}' for i in range(final_page_number)]\n",
    "repo_pages"
   ]
  },
  {
   "cell_type": "markdown",
   "metadata": {},
   "source": [
    "---\n",
    "\n",
    "### Goal 1.C\n",
    "\n",
    "Perfect. \n",
    "Next, we need to figure out a pattern to grab all of the repository links..\n",
    "\n",
    "Looking at the main page (`https://github.com/NSS-Data-Analytics-Cohort-2`) we can see that all of the repository elements are included in a `div` element with the `id` equal to `org-repositories`. \n",
    "Within that `div`, there is an unordered list (`ul`) with separate list elements (`li`) containing our info. \n",
    "\n",
    "Let's try to access those for the first pass."
   ]
  },
  {
   "cell_type": "code",
   "execution_count": 13,
   "metadata": {
    "scrolled": true
   },
   "outputs": [
    {
     "name": "stdout",
     "output_type": "stream",
     "text": [
      "Total repositories on page: 30\n",
      "<li class=\"public source d-block py-4 border-bottom\" itemprop=\"owns\" itemscope=\"itemscope\" itemtype=\"http://schema.org/Code\">\n",
      " <div class=\"flex-justify-between d-flex\">\n",
      "  <div class=\"flex-auto\">\n",
      "   <h3 class=\"wb-break-all\">\n",
      "    <a class=\"d-inline-block\" data-hovercard-type=\"repository\" data-hovercard-url=\"/NSS-Data-Analytics-Cohort-2/web-sraping-marathons-joelelle/hovercard\" href=\"/NSS-Data-Analytics-Cohort-2/web-sraping-marathons-joelelle\" itemprop=\"name codeRepository\">\n",
      "     web-sraping-marathons-joelelle\n",
      "    </a>\n",
      "   </h3>\n",
      "   <p class=\"break-word text-gray mb-0\" itemprop=\"description\">\n",
      "    web-sraping-marathons-joelelle created by GitHub Classroom\n",
      "   </p>\n",
      "  </div>\n",
      "  <div class=\"flex-items-center d-none d-md-flex\">\n",
      "   <span aria-label=\"Past year of activity\" class=\"tooltipped tooltipped-s\">\n",
      "    <svg height=\"30\" width=\"155\">\n",
      "     <defs>\n",
      "      <lineargradient id=\"gradient-262606332\" x1=\"0\" x2=\"0\" y1=\"1\" y2=\"0\">\n",
      "       <stop offset=\"10%\" stop-color=\"#c6e48b\">\n",
      "       </stop>\n",
      "       <stop offset=\"33%\" stop-color=\"#7bc96f\">\n",
      "       </stop>\n",
      "       <stop offset=\"66%\" stop-color=\"#239a3b\">\n",
      "       </stop>\n",
      "       <stop offset=\"90%\" stop-color=\"#196127\">\n",
      "       </stop>\n",
      "      </lineargradient>\n",
      "      <mask height=\"28\" id=\"sparkline-262606332\" width=\"155\" x=\"0\" y=\"0\">\n",
      "       <polyline fill=\"transparent\" points=\"0,1 3,1 6,1 9,1 12,1 15,1 18,1 21,1 24,1 27,1 30,1 33,1 36,1 39,1 42,1 45,1 48,1 51,1 54,1 57,1 60,1 63,1 66,1 69,1 72,1 75,1 78,1 81,1 84,1 87,1 90,1 93,1 96,1 99,1 102,1 105,1 108,1 111,1 114,1 117,1 120,1 123,1 126,1 129,1 132,1 135,1 138,1 141,1 144,1 147,1 150,1 153,1 \" stroke=\"#8cc665\" stroke-width=\"2\" transform=\"translate(0, 28) scale(1,-1)\">\n",
      "       </polyline>\n",
      "      </mask>\n",
      "     </defs>\n",
      "     <g transform=\"translate(0, -12)\">\n",
      "      <rect height=\"30\" style=\"stroke: none; fill: url(#gradient-262606332); mask: url(#sparkline-262606332)\" width=\"155\" x=\"0\" y=\"-2\">\n",
      "      </rect>\n",
      "     </g>\n",
      "    </svg>\n",
      "   </span>\n",
      "  </div>\n",
      " </div>\n",
      " <div class=\"text-gray f6 mt-2\">\n",
      "  <span class=\"mr-3\">\n",
      "   <span class=\"repo-language-color\" style=\"background-color: #DA5B0B\">\n",
      "   </span>\n",
      "   <span itemprop=\"programmingLanguage\">\n",
      "    Jupyter Notebook\n",
      "   </span>\n",
      "  </span>\n",
      "  <span class=\"mr-3 text-gray\">\n",
      "   <svg aria-hidden=\"true\" aria-label=\"fork\" class=\"octicon octicon-repo-forked\" height=\"16\" version=\"1.1\" viewbox=\"0 0 10 16\" width=\"10\">\n",
      "    <path d=\"M8 1a1.993 1.993 0 00-1 3.72V6L5 8 3 6V4.72A1.993 1.993 0 002 1a1.993 1.993 0 00-1 3.72V6.5l3 3v1.78A1.993 1.993 0 005 15a1.993 1.993 0 001-3.72V9.5l3-3V4.72A1.993 1.993 0 008 1zM2 4.2C1.34 4.2.8 3.65.8 3c0-.65.55-1.2 1.2-1.2.65 0 1.2.55 1.2 1.2 0 .65-.55 1.2-1.2 1.2zm3 10c-.66 0-1.2-.55-1.2-1.2 0-.65.55-1.2 1.2-1.2.65 0 1.2.55 1.2 1.2 0 .65-.55 1.2-1.2 1.2zm3-10c-.66 0-1.2-.55-1.2-1.2 0-.65.55-1.2 1.2-1.2.65 0 1.2.55 1.2 1.2 0 .65-.55 1.2-1.2 1.2z\" fill-rule=\"evenodd\">\n",
      "    </path>\n",
      "   </svg>\n",
      "   0\n",
      "  </span>\n",
      "  <span class=\"mr-3 text-gray\">\n",
      "   <svg aria-hidden=\"true\" class=\"octicon octicon-star\" height=\"16\" version=\"1.1\" viewbox=\"0 0 14 16\" width=\"14\">\n",
      "    <path d=\"M14 6l-4.9-.64L7 1 4.9 5.36 0 6l3.6 3.26L2.67 14 7 11.67 11.33 14l-.93-4.74L14 6z\" fill-rule=\"evenodd\">\n",
      "    </path>\n",
      "   </svg>\n",
      "   0\n",
      "  </span>\n",
      "  <a class=\"no-wrap muted-link mr-3\" href=\"/NSS-Data-Analytics-Cohort-2/web-sraping-marathons-joelelle/issues\">\n",
      "   <svg aria-hidden=\"true\" class=\"octicon octicon-issue-opened\" height=\"16\" version=\"1.1\" viewbox=\"0 0 14 16\" width=\"14\">\n",
      "    <path d=\"M7 2.3c3.14 0 5.7 2.56 5.7 5.7s-2.56 5.7-5.7 5.7A5.71 5.71 0 011.3 8c0-3.14 2.56-5.7 5.7-5.7zM7 1C3.14 1 0 4.14 0 8s3.14 7 7 7 7-3.14 7-7-3.14-7-7-7zm1 3H6v5h2V4zm0 6H6v2h2v-2z\" fill-rule=\"evenodd\">\n",
      "    </path>\n",
      "   </svg>\n",
      "   0\n",
      "  </a>\n",
      "  <a class=\"no-wrap muted-link mr-3\" href=\"/NSS-Data-Analytics-Cohort-2/web-sraping-marathons-joelelle/pulls\">\n",
      "   <svg aria-hidden=\"true\" class=\"octicon octicon-git-pull-request\" height=\"16\" version=\"1.1\" viewbox=\"0 0 12 16\" width=\"12\">\n",
      "    <path d=\"M11 11.28V5c-.03-.78-.34-1.47-.94-2.06C9.46 2.35 8.78 2.03 8 2H7V0L4 3l3 3V4h1c.27.02.48.11.69.31.21.2.3.42.31.69v6.28A1.993 1.993 0 0010 15a1.993 1.993 0 001-3.72zm-1 2.92c-.66 0-1.2-.55-1.2-1.2 0-.65.55-1.2 1.2-1.2.65 0 1.2.55 1.2 1.2 0 .65-.55 1.2-1.2 1.2zM4 3c0-1.11-.89-2-2-2a1.993 1.993 0 00-1 3.72v6.56A1.993 1.993 0 002 15a1.993 1.993 0 001-3.72V4.72c.59-.34 1-.98 1-1.72zm-.8 10c0 .66-.55 1.2-1.2 1.2-.65 0-1.2-.55-1.2-1.2 0-.65.55-1.2 1.2-1.2.65 0 1.2.55 1.2 1.2zM2 4.2C1.34 4.2.8 3.65.8 3c0-.65.55-1.2 1.2-1.2.65 0 1.2.55 1.2 1.2 0 .65-.55 1.2-1.2 1.2z\" fill-rule=\"evenodd\">\n",
      "    </path>\n",
      "   </svg>\n",
      "   0\n",
      "  </a>\n",
      "  <span class=\"no-wrap\">\n",
      "   Updated\n",
      "   <relative-time class=\"no-wrap\" datetime=\"2020-05-09T15:58:08Z\">\n",
      "    May 9, 2020\n",
      "   </relative-time>\n",
      "  </span>\n",
      " </div>\n",
      "</li>\n",
      "\n"
     ]
    }
   ],
   "source": [
    "org_repositories = soup.find(id='org-repositories') \\\n",
    "    .find('ul') \\\n",
    "    .findAll('li')\n",
    "\n",
    "\n",
    "print(f'Total repositories on page: {len(org_repositories)}')\n",
    "print(org_repositories[0].prettify())"
   ]
  },
  {
   "cell_type": "code",
   "execution_count": 14,
   "metadata": {},
   "outputs": [
    {
     "name": "stdout",
     "output_type": "stream",
     "text": [
      "<a class=\"d-inline-block\" data-hovercard-type=\"repository\" data-hovercard-url=\"/NSS-Data-Analytics-Cohort-2/web-sraping-marathons-joelelle/hovercard\" href=\"/NSS-Data-Analytics-Cohort-2/web-sraping-marathons-joelelle\" itemprop=\"name codeRepository\">\n",
      " web-sraping-marathons-joelelle\n",
      "</a>\n",
      "\n"
     ]
    }
   ],
   "source": [
    "# Sweet. Now, let's grab the link for the first one.\n",
    "# If we can grab that one.. We can grab the rest.\n",
    "first_repo = org_repositories[0]\n",
    "first_repo_a_elem = first_repo.find('a')\n",
    "print(first_repo_a_elem.prettify())"
   ]
  },
  {
   "cell_type": "code",
   "execution_count": 15,
   "metadata": {},
   "outputs": [
    {
     "data": {
      "text/plain": [
       "'/NSS-Data-Analytics-Cohort-2/web-sraping-marathons-joelelle'"
      ]
     },
     "execution_count": 15,
     "metadata": {},
     "output_type": "execute_result"
    }
   ],
   "source": [
    "# Now.. The link!\n",
    "first_repo_a_elem.get('href')"
   ]
  },
  {
   "cell_type": "markdown",
   "metadata": {},
   "source": [
    "---\n",
    "\n",
    "### Goal 1.D\n",
    "\n",
    "Ok. \n",
    "Now.. \n",
    "We have the ability to get all the links!\n",
    "We just need to stitch all of our code together."
   ]
  },
  {
   "cell_type": "code",
   "execution_count": 16,
   "metadata": {},
   "outputs": [],
   "source": [
    "def get_page_soup(url):\n",
    "    print(f'Fetching website data for: {url}')\n",
    "    resp = requests.get(url)\n",
    "    return BeautifulSoup(resp.text, 'html.parser')\n",
    "\n",
    "\n",
    "def get_org_repositories(soup):\n",
    "    print('\\tGetting org repositories')\n",
    "    return soup.find(id='org-repositories') \\\n",
    "        .find('ul') \\\n",
    "        .findAll('li')\n",
    "\n",
    "\n",
    "def extract_org_repository_links(org_repositories):\n",
    "    print('\\tGetting links from repositories')\n",
    "    return [repo.find('a').get('href') for repo in org_repositories]"
   ]
  },
  {
   "cell_type": "code",
   "execution_count": 17,
   "metadata": {},
   "outputs": [
    {
     "name": "stdout",
     "output_type": "stream",
     "text": [
      "Fetching website data for: https://github.com/NSS-Data-Analytics-Cohort-2?page=1\n",
      "\tGetting org repositories\n",
      "\tGetting links from repositories\n",
      "Fetching website data for: https://github.com/NSS-Data-Analytics-Cohort-2?page=2\n",
      "\tGetting org repositories\n",
      "\tGetting links from repositories\n",
      "Fetching website data for: https://github.com/NSS-Data-Analytics-Cohort-2?page=3\n",
      "\tGetting org repositories\n",
      "\tGetting links from repositories\n",
      "Fetching website data for: https://github.com/NSS-Data-Analytics-Cohort-2?page=4\n",
      "\tGetting org repositories\n",
      "\tGetting links from repositories\n",
      "Fetching website data for: https://github.com/NSS-Data-Analytics-Cohort-2?page=5\n",
      "\tGetting org repositories\n",
      "\tGetting links from repositories\n",
      "Fetching website data for: https://github.com/NSS-Data-Analytics-Cohort-2?page=6\n",
      "\tGetting org repositories\n",
      "\tGetting links from repositories\n",
      "Fetching website data for: https://github.com/NSS-Data-Analytics-Cohort-2?page=7\n",
      "\tGetting org repositories\n",
      "\tGetting links from repositories\n",
      "Fetching website data for: https://github.com/NSS-Data-Analytics-Cohort-2?page=8\n",
      "\tGetting org repositories\n",
      "\tGetting links from repositories\n",
      "Fetching website data for: https://github.com/NSS-Data-Analytics-Cohort-2?page=9\n",
      "\tGetting org repositories\n",
      "\tGetting links from repositories\n",
      "Fetching website data for: https://github.com/NSS-Data-Analytics-Cohort-2?page=10\n",
      "\tGetting org repositories\n",
      "\tGetting links from repositories\n",
      "Fetching website data for: https://github.com/NSS-Data-Analytics-Cohort-2?page=11\n",
      "\tGetting org repositories\n",
      "\tGetting links from repositories\n"
     ]
    }
   ],
   "source": [
    "all_links = []\n",
    "\n",
    "for url in repo_pages:\n",
    "    soup = get_page_soup(url)\n",
    "    org_repositories = get_org_repositories(soup)\n",
    "    links = extract_org_repository_links(org_repositories)\n",
    "    \n",
    "    all_links.extend(links)"
   ]
  },
  {
   "cell_type": "code",
   "execution_count": 18,
   "metadata": {},
   "outputs": [
    {
     "data": {
      "text/plain": [
       "['/NSS-Data-Analytics-Cohort-2/web-sraping-marathons-joelelle',\n",
       " '/NSS-Data-Analytics-Cohort-2/web-sraping-marathons-unewsome',\n",
       " '/NSS-Data-Analytics-Cohort-2/web-sraping-marathons-mtylerrobbins',\n",
       " '/NSS-Data-Analytics-Cohort-2/web-sraping-marathons-abrunlinger',\n",
       " '/NSS-Data-Analytics-Cohort-2/web-sraping-marathons-olsont12',\n",
       " '/NSS-Data-Analytics-Cohort-2/web-sraping-marathons-taylorperkins',\n",
       " '/NSS-Data-Analytics-Cohort-2/web-sraping-marathons-brandesmoore',\n",
       " '/NSS-Data-Analytics-Cohort-2/web-sraping-marathons-fdumessa',\n",
       " '/NSS-Data-Analytics-Cohort-2/web-sraping-marathons-landrybutler',\n",
       " '/NSS-Data-Analytics-Cohort-2/web-sraping-marathons-Kristiangarrett',\n",
       " '/NSS-Data-Analytics-Cohort-2/web-sraping-marathons-BrantIvey',\n",
       " '/NSS-Data-Analytics-Cohort-2/web-sraping-marathons-st-decker',\n",
       " '/NSS-Data-Analytics-Cohort-2/web-sraping-marathons-Didymustheblind',\n",
       " '/NSS-Data-Analytics-Cohort-2/web-sraping-marathons-DavidMellow',\n",
       " '/NSS-Data-Analytics-Cohort-2/web-sraping-marathons-gradyrobbins',\n",
       " '/NSS-Data-Analytics-Cohort-2/web-sraping-marathons-annrinTN',\n",
       " '/NSS-Data-Analytics-Cohort-2/web-sraping-marathons-adamtsuch21',\n",
       " '/NSS-Data-Analytics-Cohort-2/web-sraping-marathons-WMcWilliams15',\n",
       " '/NSS-Data-Analytics-Cohort-2/web-sraping-marathons-yhasan47',\n",
       " '/NSS-Data-Analytics-Cohort-2/web-sraping-marathons-seiberttregoning',\n",
       " '/NSS-Data-Analytics-Cohort-2/web-sraping-marathons-ECNewland',\n",
       " '/NSS-Data-Analytics-Cohort-2/web-sraping-marathons-mwbarnesy',\n",
       " '/NSS-Data-Analytics-Cohort-2/web-sraping-marathons-psdrury',\n",
       " '/NSS-Data-Analytics-Cohort-2/web-sraping-marathons-erinmarieanderson',\n",
       " '/NSS-Data-Analytics-Cohort-2/healthcare-bluebook-the-unquantifiables',\n",
       " '/NSS-Data-Analytics-Cohort-2/Web-Scraping-Marathons',\n",
       " '/NSS-Data-Analytics-Cohort-2/healthcare-bluebook-project-bluebook',\n",
       " '/NSS-Data-Analytics-Cohort-2/healthcare-bluebook-orange-team',\n",
       " '/NSS-Data-Analytics-Cohort-2/healthcare-bluebook-red-team',\n",
       " '/NSS-Data-Analytics-Cohort-2/healthcare-bluebook-blue-team',\n",
       " '/NSS-Data-Analytics-Cohort-2/healthcare-bluebook-green-team',\n",
       " '/NSS-Data-Analytics-Cohort-2/data-analyst-jobs-seiberttregoning',\n",
       " '/NSS-Data-Analytics-Cohort-2/gdp-and-internet-usage-DavidMellow',\n",
       " '/NSS-Data-Analytics-Cohort-2/gdp-and-internet-usage-erinmarieanderson',\n",
       " '/NSS-Data-Analytics-Cohort-2/gdp-and-internet-usage-annrinTN',\n",
       " '/NSS-Data-Analytics-Cohort-2/gdp-and-internet-usage-Didymustheblind',\n",
       " '/NSS-Data-Analytics-Cohort-2/healthcare-bluebook-instructors',\n",
       " '/NSS-Data-Analytics-Cohort-2/gdp-and-internet-usage-olsont12',\n",
       " '/NSS-Data-Analytics-Cohort-2/gdp-and-internet-usage-brandesmoore',\n",
       " '/NSS-Data-Analytics-Cohort-2/gdp-and-internet-usage-WMcWilliams15',\n",
       " '/NSS-Data-Analytics-Cohort-2/gdp-and-internet-usage-joelelle',\n",
       " '/NSS-Data-Analytics-Cohort-2/gdp-and-internet-usage-fdumessa',\n",
       " '/NSS-Data-Analytics-Cohort-2/gdp-and-internet-usage-BrantIvey',\n",
       " '/NSS-Data-Analytics-Cohort-2/gdp-and-internet-usage-mtylerrobbins',\n",
       " '/NSS-Data-Analytics-Cohort-2/gdp-and-internet-usage-landrybutler',\n",
       " '/NSS-Data-Analytics-Cohort-2/gdp-and-internet-usage-st-decker',\n",
       " '/NSS-Data-Analytics-Cohort-2/gdp-and-internet-usage-abrunlinger',\n",
       " '/NSS-Data-Analytics-Cohort-2/gdp-and-internet-usage-adamtsuch21',\n",
       " '/NSS-Data-Analytics-Cohort-2/gdp-and-internet-usage-Kristiangarrett',\n",
       " '/NSS-Data-Analytics-Cohort-2/gdp-and-internet-usage-mwbarnesy',\n",
       " '/NSS-Data-Analytics-Cohort-2/gdp-and-internet-usage-Kris-nge',\n",
       " '/NSS-Data-Analytics-Cohort-2/python-orientation-seiberttregoning',\n",
       " '/NSS-Data-Analytics-Cohort-2/gdp-and-internet-usage-seiberttregoning',\n",
       " '/NSS-Data-Analytics-Cohort-2/gdp-and-internet-usage-unewsome',\n",
       " '/NSS-Data-Analytics-Cohort-2/gdp-and-internet-usage-ECNewland',\n",
       " '/NSS-Data-Analytics-Cohort-2/gdp-and-internet-usage-gradyrobbins',\n",
       " '/NSS-Data-Analytics-Cohort-2/gdp-and-internet-usage-tammscaley73',\n",
       " '/NSS-Data-Analytics-Cohort-2/gdp-and-internet-usage-yhasan47',\n",
       " '/NSS-Data-Analytics-Cohort-2/gdp-and-internet-usage-taylorperkins',\n",
       " '/NSS-Data-Analytics-Cohort-2/gdp-and-internet-usage-psdrury',\n",
       " '/NSS-Data-Analytics-Cohort-2/gdp-and-internet-usage-samanthaashleytoledo',\n",
       " '/NSS-Data-Analytics-Cohort-2/python-orientation-st-decker',\n",
       " '/NSS-Data-Analytics-Cohort-2/python-orientation-mwbarnesy',\n",
       " '/NSS-Data-Analytics-Cohort-2/python-orientation-BrantIvey',\n",
       " '/NSS-Data-Analytics-Cohort-2/python-orientation-adamtsuch21',\n",
       " '/NSS-Data-Analytics-Cohort-2/python-orientation-landrybutler',\n",
       " '/NSS-Data-Analytics-Cohort-2/power-bi-annrinTN',\n",
       " '/NSS-Data-Analytics-Cohort-2/python-orientation-Kristiangarrett',\n",
       " '/NSS-Data-Analytics-Cohort-2/python-orientation-fdumessa',\n",
       " '/NSS-Data-Analytics-Cohort-2/python-orientation-unewsome',\n",
       " '/NSS-Data-Analytics-Cohort-2/python-orientation-brandesmoore',\n",
       " '/NSS-Data-Analytics-Cohort-2/python-orientation-Kris-nge',\n",
       " '/NSS-Data-Analytics-Cohort-2/python-orientation-samanthaashleytoledo',\n",
       " '/NSS-Data-Analytics-Cohort-2/python-orientation-yhasan47',\n",
       " '/NSS-Data-Analytics-Cohort-2/python-orientation-abrunlinger',\n",
       " '/NSS-Data-Analytics-Cohort-2/python-orientation-olsont12',\n",
       " '/NSS-Data-Analytics-Cohort-2/python-orientation-Didymustheblind',\n",
       " '/NSS-Data-Analytics-Cohort-2/python-orientation-erinmarieanderson',\n",
       " '/NSS-Data-Analytics-Cohort-2/python-orientation-annrinTN',\n",
       " '/NSS-Data-Analytics-Cohort-2/python-orientation-taylorperkins',\n",
       " '/NSS-Data-Analytics-Cohort-2/python-orientation-tammscaley73',\n",
       " '/NSS-Data-Analytics-Cohort-2/python-orientation-joelelle',\n",
       " '/NSS-Data-Analytics-Cohort-2/python-orientation-DavidMellow',\n",
       " '/NSS-Data-Analytics-Cohort-2/python-orientation-gradyrobbins',\n",
       " '/NSS-Data-Analytics-Cohort-2/python-orientation-psdrury',\n",
       " '/NSS-Data-Analytics-Cohort-2/python-orientation-mtylerrobbins',\n",
       " '/NSS-Data-Analytics-Cohort-2/python-orientation-WMcWilliams15',\n",
       " '/NSS-Data-Analytics-Cohort-2/python-orientation-ECNewland',\n",
       " '/NSS-Data-Analytics-Cohort-2/power-bi-fdumessa',\n",
       " '/NSS-Data-Analytics-Cohort-2/power-bi-erinmarieanderson',\n",
       " '/NSS-Data-Analytics-Cohort-2/power-bi-WMcWilliams15',\n",
       " '/NSS-Data-Analytics-Cohort-2/power-bi-BrantIvey',\n",
       " '/NSS-Data-Analytics-Cohort-2/power-bi-joelelle',\n",
       " '/NSS-Data-Analytics-Cohort-2/power-bi-seiberttregoning',\n",
       " '/NSS-Data-Analytics-Cohort-2/power-bi-ECNewland',\n",
       " '/NSS-Data-Analytics-Cohort-2/power-bi-brandesmoore',\n",
       " '/NSS-Data-Analytics-Cohort-2/power-bi-samanthaashleytoledo',\n",
       " '/NSS-Data-Analytics-Cohort-2/power-bi-landrybutler',\n",
       " '/NSS-Data-Analytics-Cohort-2/power-bi-David-NMN-Melllow',\n",
       " '/NSS-Data-Analytics-Cohort-2/power-bi-adamtsuch21',\n",
       " '/NSS-Data-Analytics-Cohort-2/power-bi-Kristiangarrett',\n",
       " '/NSS-Data-Analytics-Cohort-2/power-bi-abrunlinger',\n",
       " '/NSS-Data-Analytics-Cohort-2/power-bi-olsont12',\n",
       " '/NSS-Data-Analytics-Cohort-2/power-bi-mtylerrobbins',\n",
       " '/NSS-Data-Analytics-Cohort-2/power-bi-Didymustheblind',\n",
       " '/NSS-Data-Analytics-Cohort-2/power-bi-psdrury',\n",
       " '/NSS-Data-Analytics-Cohort-2/power-bi-taylorperkins',\n",
       " '/NSS-Data-Analytics-Cohort-2/power-bi-Kris-nge',\n",
       " '/NSS-Data-Analytics-Cohort-2/power-bi-yhasan47',\n",
       " '/NSS-Data-Analytics-Cohort-2/power-bi-st-decker',\n",
       " '/NSS-Data-Analytics-Cohort-2/power-bi-mwbarnesy',\n",
       " '/NSS-Data-Analytics-Cohort-2/power_bi',\n",
       " '/NSS-Data-Analytics-Cohort-2/nashville-cemetary-burials-brandesmoore',\n",
       " '/NSS-Data-Analytics-Cohort-2/lahman-baseball-BrantIvey',\n",
       " '/NSS-Data-Analytics-Cohort-2/tableau-workshop-erinmarieanderson',\n",
       " '/NSS-Data-Analytics-Cohort-2/tableau-workshop-BrantIvey',\n",
       " '/NSS-Data-Analytics-Cohort-2/tableau-workshop-fdumessa',\n",
       " '/NSS-Data-Analytics-Cohort-2/tableau-workshop-seiberttregoning',\n",
       " '/NSS-Data-Analytics-Cohort-2/tableau-workshop-gradyrobbins',\n",
       " '/NSS-Data-Analytics-Cohort-2/tableau-workshop-mtylerrobbins',\n",
       " '/NSS-Data-Analytics-Cohort-2/tableau-workshop-st-decker',\n",
       " '/NSS-Data-Analytics-Cohort-2/tableau-workshop-adamtsuch21',\n",
       " '/NSS-Data-Analytics-Cohort-2/tableau-workshop-WMcWilliams15',\n",
       " '/NSS-Data-Analytics-Cohort-2/tableau-workshop-Didymustheblind',\n",
       " '/NSS-Data-Analytics-Cohort-2/tableau-workshop-Kristiangarrett',\n",
       " '/NSS-Data-Analytics-Cohort-2/tableau-workshop-psdrury',\n",
       " '/NSS-Data-Analytics-Cohort-2/tableau-workshop-annrinTN',\n",
       " '/NSS-Data-Analytics-Cohort-2/tableau-workshop-brandesmoore',\n",
       " '/NSS-Data-Analytics-Cohort-2/tableau-workshop-samanthaashleytoledo',\n",
       " '/NSS-Data-Analytics-Cohort-2/tableau-workshop-landrybutler',\n",
       " '/NSS-Data-Analytics-Cohort-2/tableau-workshop-mwbarnesy',\n",
       " '/NSS-Data-Analytics-Cohort-2/tableau-workshop-Kris-nge',\n",
       " '/NSS-Data-Analytics-Cohort-2/tableau-workshop-yhasan47',\n",
       " '/NSS-Data-Analytics-Cohort-2/tableau-workshop-ECNewland',\n",
       " '/NSS-Data-Analytics-Cohort-2/yelp-charlotte-WMcWilliams15',\n",
       " '/NSS-Data-Analytics-Cohort-2/foo-taylorperkins',\n",
       " '/NSS-Data-Analytics-Cohort-2/foobar',\n",
       " '/NSS-Data-Analytics-Cohort-2/yelp-charlotte-ECNewland',\n",
       " '/NSS-Data-Analytics-Cohort-2/yelp-charlotte-adamtsuch21',\n",
       " '/NSS-Data-Analytics-Cohort-2/yelp-charlotte-seiberttregoning',\n",
       " '/NSS-Data-Analytics-Cohort-2/yelp-charlotte-samanthaashleytoledo',\n",
       " '/NSS-Data-Analytics-Cohort-2/yelp-charlotte-mtylerrobbins',\n",
       " '/NSS-Data-Analytics-Cohort-2/yelp-charlotte-gradyrobbins',\n",
       " '/NSS-Data-Analytics-Cohort-2/yelp-charlotte-unewsome',\n",
       " '/NSS-Data-Analytics-Cohort-2/yelp-charlotte-st-decker',\n",
       " '/NSS-Data-Analytics-Cohort-2/yelp-charlotte-joelelle',\n",
       " '/NSS-Data-Analytics-Cohort-2/yelp-charlotte-yhasan47',\n",
       " '/NSS-Data-Analytics-Cohort-2/yelp-charlotte-Didymustheblind',\n",
       " '/NSS-Data-Analytics-Cohort-2/yelp-charlotte-BrantIvey',\n",
       " '/NSS-Data-Analytics-Cohort-2/yelp-charlotte-abrunlinger',\n",
       " '/NSS-Data-Analytics-Cohort-2/yelp-charlotte-olsont12',\n",
       " '/NSS-Data-Analytics-Cohort-2/yelp-charlotte-Kris-nge',\n",
       " '/NSS-Data-Analytics-Cohort-2/yelp-charlotte-tammscaley73',\n",
       " '/NSS-Data-Analytics-Cohort-2/yelp-charlotte-fdumessa',\n",
       " '/NSS-Data-Analytics-Cohort-2/yelp-charlotte-David-NMN-Melllow',\n",
       " '/NSS-Data-Analytics-Cohort-2/yelp-charlotte-Kristiangarrett',\n",
       " '/NSS-Data-Analytics-Cohort-2/yelp-charlotte-brandesmoore',\n",
       " '/NSS-Data-Analytics-Cohort-2/yelp-charlotte-erinmarieanderson',\n",
       " '/NSS-Data-Analytics-Cohort-2/yelp-charlotte-annrinTN',\n",
       " '/NSS-Data-Analytics-Cohort-2/yelp-charlotte-landrybutler',\n",
       " '/NSS-Data-Analytics-Cohort-2/yelp-charlotte-psdrury',\n",
       " '/NSS-Data-Analytics-Cohort-2/yelp-charlotte-mwbarnesy',\n",
       " '/NSS-Data-Analytics-Cohort-2/nashville-cemetary-burials-landrybutler',\n",
       " '/NSS-Data-Analytics-Cohort-2/yelp-charlotte',\n",
       " '/NSS-Data-Analytics-Cohort-2/nashville-cemetary-burials-annrinTN',\n",
       " '/NSS-Data-Analytics-Cohort-2/nashville-cemetary-burials-erinmarieanderson',\n",
       " '/NSS-Data-Analytics-Cohort-2/nashville-cemetary-burials-BrantIvey',\n",
       " '/NSS-Data-Analytics-Cohort-2/nashville-cemetary-burials-mwbarnesy',\n",
       " '/NSS-Data-Analytics-Cohort-2/nashville-cemetary-burials-psdrury',\n",
       " '/NSS-Data-Analytics-Cohort-2/nashville-cemetary-burials-gradyrobbins',\n",
       " '/NSS-Data-Analytics-Cohort-2/nashville-cemetary-burials-Kristiangarrett',\n",
       " '/NSS-Data-Analytics-Cohort-2/nashville-cemetary-burials-st-decker',\n",
       " '/NSS-Data-Analytics-Cohort-2/nashville-cemetary-burials-David-NMN-Melllow',\n",
       " '/NSS-Data-Analytics-Cohort-2/nashville-cemetary-burials-adamtsuch21',\n",
       " '/NSS-Data-Analytics-Cohort-2/nashville-cemetary-burials-samanthaashleytoledo',\n",
       " '/NSS-Data-Analytics-Cohort-2/nashville-cemetary-burials-fdumessa',\n",
       " '/NSS-Data-Analytics-Cohort-2/nashville-cemetary-burials-yhasan47',\n",
       " '/NSS-Data-Analytics-Cohort-2/nashville-cemetary-burials-abrunlinger',\n",
       " '/NSS-Data-Analytics-Cohort-2/nashville-cemetary-burials-Kris-nge',\n",
       " '/NSS-Data-Analytics-Cohort-2/nashville-cemetary-burials-WMcWilliams15',\n",
       " '/NSS-Data-Analytics-Cohort-2/nashville-cemetary-burials-ECNewland',\n",
       " '/NSS-Data-Analytics-Cohort-2/nashville-cemetary-burials-mtylerrobbins',\n",
       " '/NSS-Data-Analytics-Cohort-2/nashville-cemetary-burials-seiberttregoning',\n",
       " '/NSS-Data-Analytics-Cohort-2/nashville-cemetary-burials-olsont12',\n",
       " '/NSS-Data-Analytics-Cohort-2/tableau-workshop',\n",
       " '/NSS-Data-Analytics-Cohort-2/power-bi-workshop',\n",
       " '/NSS-Data-Analytics-Cohort-2/nashville-cemetary-burials-joelelle',\n",
       " '/NSS-Data-Analytics-Cohort-2/low-income-and-elderly-assist-theteam',\n",
       " '/NSS-Data-Analytics-Cohort-2/nashville-cemetary-burials-Didymustheblind',\n",
       " '/NSS-Data-Analytics-Cohort-2/Nashville-cemetary-burials',\n",
       " '/NSS-Data-Analytics-Cohort-2/nashville-cemetary-burials-taylorperkins',\n",
       " '/NSS-Data-Analytics-Cohort-2/low-income-and-elderly-assist-nss-benefit-advisors',\n",
       " '/NSS-Data-Analytics-Cohort-2/low-income-and-elderly-assist-da2redteam',\n",
       " '/NSS-Data-Analytics-Cohort-2/low-income-and-elderly-assist-data-peeps',\n",
       " '/NSS-Data-Analytics-Cohort-2/low-income-and-elderly-assist-elderly_superheroes',\n",
       " '/NSS-Data-Analytics-Cohort-2/low-income-and-elderly-assist-excel2',\n",
       " '/NSS-Data-Analytics-Cohort-2/marathon-analysis-st-decker',\n",
       " '/NSS-Data-Analytics-Cohort-2/marathon-analysis-erinmarieanderson',\n",
       " '/NSS-Data-Analytics-Cohort-2/low-income-and-elderly-assist-instructional-team',\n",
       " '/NSS-Data-Analytics-Cohort-2/marathon-analysis-fdumessa',\n",
       " '/NSS-Data-Analytics-Cohort-2/low-income-and-elderly-assist',\n",
       " '/NSS-Data-Analytics-Cohort-2/marathon-analysis-joelelle',\n",
       " '/NSS-Data-Analytics-Cohort-2/marathon-analysis-brandesmoore',\n",
       " '/NSS-Data-Analytics-Cohort-2/marathon-analysis-abrunlinger',\n",
       " '/NSS-Data-Analytics-Cohort-2/marathon-analysis-landrybutler',\n",
       " '/NSS-Data-Analytics-Cohort-2/marathon-analysis-adamtsuch21',\n",
       " '/NSS-Data-Analytics-Cohort-2/marathon-analysis-David-NMN-Melllow',\n",
       " '/NSS-Data-Analytics-Cohort-2/marathon-analysis-annrinTN',\n",
       " '/NSS-Data-Analytics-Cohort-2/marathon-analysis-gradyrobbins',\n",
       " '/NSS-Data-Analytics-Cohort-2/marathon-analysis-ECNewland',\n",
       " '/NSS-Data-Analytics-Cohort-2/marathon-analysis-mwbarnesy',\n",
       " '/NSS-Data-Analytics-Cohort-2/marathon-analysis-samanthaashleytoledo',\n",
       " '/NSS-Data-Analytics-Cohort-2/marathon-analysis-Kristiangarrett',\n",
       " '/NSS-Data-Analytics-Cohort-2/lahman-baseball-brandesmoore',\n",
       " '/NSS-Data-Analytics-Cohort-2/marathon-analysis-olsont12',\n",
       " '/NSS-Data-Analytics-Cohort-2/marathon-analysis-seiberttregoning',\n",
       " '/NSS-Data-Analytics-Cohort-2/marathon-analysis-BrantIvey',\n",
       " '/NSS-Data-Analytics-Cohort-2/marathon-analysis-Kris-nge',\n",
       " '/NSS-Data-Analytics-Cohort-2/marathon-analysis-mtylerrobbins',\n",
       " '/NSS-Data-Analytics-Cohort-2/marathon-analysis-psdrury',\n",
       " '/NSS-Data-Analytics-Cohort-2/marathon-analysis-yhasan47',\n",
       " '/NSS-Data-Analytics-Cohort-2/marathon-analysis-Didymustheblind',\n",
       " '/NSS-Data-Analytics-Cohort-2/marathon-analysis-WMcWilliams15',\n",
       " '/NSS-Data-Analytics-Cohort-2/monthly-web-searches-David-NMN-Melllow',\n",
       " '/NSS-Data-Analytics-Cohort-2/marathon-analysis-unewsome',\n",
       " '/NSS-Data-Analytics-Cohort-2/monthly-web-searches-yhasan47',\n",
       " '/NSS-Data-Analytics-Cohort-2/marathon-analysis-tammscaley73',\n",
       " '/NSS-Data-Analytics-Cohort-2/marathon-analysis-taylorperkins',\n",
       " '/NSS-Data-Analytics-Cohort-2/monthly-web-searches-st-decker',\n",
       " '/NSS-Data-Analytics-Cohort-2/monthly-web-searches-mwbarnesy',\n",
       " '/NSS-Data-Analytics-Cohort-2/monthly-web-searches-landrybutler',\n",
       " '/NSS-Data-Analytics-Cohort-2/monthly-web-searches-BrantIvey',\n",
       " '/NSS-Data-Analytics-Cohort-2/monthly-web-searches-joelelle',\n",
       " '/NSS-Data-Analytics-Cohort-2/Marathon-Analysis',\n",
       " '/NSS-Data-Analytics-Cohort-2/monthly-web-searches-fdumessa',\n",
       " '/NSS-Data-Analytics-Cohort-2/monthly-web-searches-psdrury',\n",
       " '/NSS-Data-Analytics-Cohort-2/monthly-web-searches-samanthaashleytoledo',\n",
       " '/NSS-Data-Analytics-Cohort-2/monthly-web-searches-brandesmoore',\n",
       " '/NSS-Data-Analytics-Cohort-2/monthly-web-searches-abrunlinger',\n",
       " '/NSS-Data-Analytics-Cohort-2/monthly-web-searches-Kristiangarrett',\n",
       " '/NSS-Data-Analytics-Cohort-2/monthly-web-searches-gradyrobbins',\n",
       " '/NSS-Data-Analytics-Cohort-2/monthly-web-searches-WMcWilliams15',\n",
       " '/NSS-Data-Analytics-Cohort-2/monthly-web-searches-ECNewland',\n",
       " '/NSS-Data-Analytics-Cohort-2/monthly-web-searches-adamtsuch21',\n",
       " '/NSS-Data-Analytics-Cohort-2/monthly-web-searches-seiberttregoning',\n",
       " '/NSS-Data-Analytics-Cohort-2/monthly-web-searches-erinmarieanderson',\n",
       " '/NSS-Data-Analytics-Cohort-2/monthly-web-searches-mtylerrobbins',\n",
       " '/NSS-Data-Analytics-Cohort-2/monthly-web-searches-annrinTN',\n",
       " '/NSS-Data-Analytics-Cohort-2/lahman-baseball-Didymustheblind',\n",
       " '/NSS-Data-Analytics-Cohort-2/monthly-web-searches-Kris-nge',\n",
       " '/NSS-Data-Analytics-Cohort-2/monthly-web-searches-Didymustheblind',\n",
       " '/NSS-Data-Analytics-Cohort-2/monthly-web-searches-olsont12',\n",
       " '/NSS-Data-Analytics-Cohort-2/monthly-web-searches-sydtaycov',\n",
       " '/NSS-Data-Analytics-Cohort-2/monthly-searches',\n",
       " '/NSS-Data-Analytics-Cohort-2/lahman-baseball-erinmarieanderson',\n",
       " '/NSS-Data-Analytics-Cohort-2/lahman-baseball-samanthaashleytoledo',\n",
       " '/NSS-Data-Analytics-Cohort-2/lahman-baseball-landrybutler',\n",
       " '/NSS-Data-Analytics-Cohort-2/lahman-baseball-mtylerrobbins',\n",
       " '/NSS-Data-Analytics-Cohort-2/lahman-baseball-joelelle',\n",
       " '/NSS-Data-Analytics-Cohort-2/lahman-baseball-abrunlinger',\n",
       " '/NSS-Data-Analytics-Cohort-2/lahman-baseball-mwbarnesy',\n",
       " '/NSS-Data-Analytics-Cohort-2/lahman-baseball-adamtsuch21',\n",
       " '/NSS-Data-Analytics-Cohort-2/lahman-baseball-annrinTN',\n",
       " '/NSS-Data-Analytics-Cohort-2/lahman-baseball-psdrury',\n",
       " '/NSS-Data-Analytics-Cohort-2/lahman-baseball-st-decker',\n",
       " '/NSS-Data-Analytics-Cohort-2/lahman-baseball-yhasan47',\n",
       " '/NSS-Data-Analytics-Cohort-2/lahman-baseball-Kristiangarrett',\n",
       " '/NSS-Data-Analytics-Cohort-2/lahman-baseball-fdumessa',\n",
       " '/NSS-Data-Analytics-Cohort-2/lahman-baseball-gradyrobbins',\n",
       " '/NSS-Data-Analytics-Cohort-2/lahman-baseball-ECNewland',\n",
       " '/NSS-Data-Analytics-Cohort-2/lahman-baseball-David-NMN-Melllow',\n",
       " '/NSS-Data-Analytics-Cohort-2/lahman-baseball-WMcWilliams15',\n",
       " '/NSS-Data-Analytics-Cohort-2/lahman-baseball-seiberttregoning',\n",
       " '/NSS-Data-Analytics-Cohort-2/lahman-baseball-sydtaycov',\n",
       " '/NSS-Data-Analytics-Cohort-2/lahman-baseball-olsont12',\n",
       " '/NSS-Data-Analytics-Cohort-2/lahman-baseball-Kris-nge',\n",
       " '/NSS-Data-Analytics-Cohort-2/lahman-baseball-unewsome',\n",
       " '/NSS-Data-Analytics-Cohort-2/lahman-baseball-tammscaley73',\n",
       " '/NSS-Data-Analytics-Cohort-2/app-trader-the-mail-app',\n",
       " '/NSS-Data-Analytics-Cohort-2/app-trader-sydney-and-the-gang',\n",
       " '/NSS-Data-Analytics-Cohort-2/app-trader-waze',\n",
       " '/NSS-Data-Analytics-Cohort-2/app-trader-venmomoney',\n",
       " '/NSS-Data-Analytics-Cohort-2/app-trader-ourapp',\n",
       " '/NSS-Data-Analytics-Cohort-2/app-trader-forest',\n",
       " '/NSS-Data-Analytics-Cohort-2/Lahman-Baseball',\n",
       " '/NSS-Data-Analytics-Cohort-2/data-analyst-jobs-brandesmoore',\n",
       " '/NSS-Data-Analytics-Cohort-2/data-analyst-jobs-annrinTN',\n",
       " '/NSS-Data-Analytics-Cohort-2/data-analyst-jobs-yhasan47',\n",
       " '/NSS-Data-Analytics-Cohort-2/data-analyst-jobs-D-NMN-Melllow',\n",
       " '/NSS-Data-Analytics-Cohort-2/data-analyst-job-titles',\n",
       " '/NSS-Data-Analytics-Cohort-2/data-analyst-jobs-abrunlinger',\n",
       " '/NSS-Data-Analytics-Cohort-2/data-analyst-jobs-sydtaycov',\n",
       " '/NSS-Data-Analytics-Cohort-2/data-analyst-jobs-samanthaashleytoledo',\n",
       " '/NSS-Data-Analytics-Cohort-2/data-analyst-jobs-WMcWilliams15',\n",
       " '/NSS-Data-Analytics-Cohort-2/data-analyst-jobs-psdrury',\n",
       " '/NSS-Data-Analytics-Cohort-2/data-analyst-jobs-landrybutler',\n",
       " '/NSS-Data-Analytics-Cohort-2/data-analyst-jobs-mtylerrobbins',\n",
       " '/NSS-Data-Analytics-Cohort-2/data-analyst-jobs-BrantIvey',\n",
       " '/NSS-Data-Analytics-Cohort-2/data-analyst-jobs-adamtsuch21',\n",
       " '/NSS-Data-Analytics-Cohort-2/data-analyst-jobs-mwbarnesy',\n",
       " '/NSS-Data-Analytics-Cohort-2/data-analyst-jobs-st-decker',\n",
       " '/NSS-Data-Analytics-Cohort-2/data-analyst-jobs-Kristiangarrett',\n",
       " '/NSS-Data-Analytics-Cohort-2/data-analyst-jobs-fdumessa',\n",
       " '/NSS-Data-Analytics-Cohort-2/data-analyst-jobs-Didymustheblind',\n",
       " '/NSS-Data-Analytics-Cohort-2/data-analyst-jobs-erinmarieanderson',\n",
       " '/NSS-Data-Analytics-Cohort-2/app_trader',\n",
       " '/NSS-Data-Analytics-Cohort-2/app-trader-instructional_team',\n",
       " '/NSS-Data-Analytics-Cohort-2/data-analyst-jobs-olsont12',\n",
       " '/NSS-Data-Analytics-Cohort-2/data-analyst-jobs-gradyrobbins',\n",
       " '/NSS-Data-Analytics-Cohort-2/data-analyst-jobs-Kris-nge',\n",
       " '/NSS-Data-Analytics-Cohort-2/data-analyst-jobs-ECNewland',\n",
       " '/NSS-Data-Analytics-Cohort-2/data-analyst-jobs-brian0029',\n",
       " '/NSS-Data-Analytics-Cohort-2/data-analyst-jobs-joelelle',\n",
       " '/NSS-Data-Analytics-Cohort-2/data-analyst-jobs-tammscaley73',\n",
       " '/NSS-Data-Analytics-Cohort-2/data-analyst-jobs-unewsome']"
      ]
     },
     "execution_count": 18,
     "metadata": {},
     "output_type": "execute_result"
    }
   ],
   "source": [
    "# insert mic-drop here\n",
    "all_links"
   ]
  },
  {
   "cell_type": "code",
   "execution_count": 20,
   "metadata": {},
   "outputs": [
    {
     "name": "stdout",
     "output_type": "stream",
     "text": [
      "Total number of links: 315\n"
     ]
    }
   ],
   "source": [
    "print(f'Total number of links: {len(all_links)}')"
   ]
  },
  {
   "cell_type": "markdown",
   "metadata": {},
   "source": [
    "---\n",
    "\n",
    "### Goal 2.A\n",
    "\n",
    "Next, we need to pull some information per repository.\n",
    "\n",
    "> For every repository..\n",
    "* Number of Commits (for the master branch)\n",
    "* Number of branches\n",
    "\n",
    "Like before, let's start with a single repository."
   ]
  },
  {
   "cell_type": "code",
   "execution_count": 21,
   "metadata": {},
   "outputs": [
    {
     "data": {
      "text/plain": [
       "'/NSS-Data-Analytics-Cohort-2/web-sraping-marathons-joelelle'"
      ]
     },
     "execution_count": 21,
     "metadata": {},
     "output_type": "execute_result"
    }
   ],
   "source": [
    "repo_link = all_links[0]\n",
    "repo_link"
   ]
  },
  {
   "cell_type": "code",
   "execution_count": 22,
   "metadata": {},
   "outputs": [
    {
     "name": "stdout",
     "output_type": "stream",
     "text": [
      "Status code is: 200\n"
     ]
    }
   ],
   "source": [
    "# Just like before!\n",
    "resp = requests.get(f'{GITHUB_URL}{repo_link}')\n",
    "print(f'Status code is: {resp.status_code}')\n",
    "\n",
    "soup = BeautifulSoup(resp.text, 'html.parser')"
   ]
  },
  {
   "cell_type": "markdown",
   "metadata": {},
   "source": [
    "---\n",
    "\n",
    "### Goal 2.B\n",
    "\n",
    "Now that we have the soup.. \n",
    "Let's focus on locating the appropriate elements. \n",
    "\n",
    "Looking at the website we notice that the elements of interest are inside list elements (`li`) within an unordered list (`ul`) having the class `numbers-summary`.\n",
    "Within those list elements are `span` elements with a `class` equal to `num`. \n",
    "Those are what we want."
   ]
  },
  {
   "cell_type": "code",
   "execution_count": 23,
   "metadata": {
    "scrolled": true
   },
   "outputs": [
    {
     "name": "stdout",
     "output_type": "stream",
     "text": [
      "<ul class=\"numbers-summary\">\n",
      " <li class=\"commits\">\n",
      "  <a data-pjax=\"\" href=\"/NSS-Data-Analytics-Cohort-2/web-sraping-marathons-joelelle/commits/master\">\n",
      "   <svg aria-hidden=\"true\" class=\"octicon octicon-git-commit\" height=\"16\" version=\"1.1\" viewbox=\"0 0 14 16\" width=\"14\">\n",
      "    <path d=\"M10.86 7c-.45-1.72-2-3-3.86-3-1.86 0-3.41 1.28-3.86 3H0v2h3.14c.45 1.72 2 3 3.86 3 1.86 0 3.41-1.28 3.86-3H14V7h-3.14zM7 10.2c-1.22 0-2.2-.98-2.2-2.2 0-1.22.98-2.2 2.2-2.2 1.22 0 2.2.98 2.2 2.2 0 1.22-.98 2.2-2.2 2.2z\" fill-rule=\"evenodd\">\n",
      "    </path>\n",
      "   </svg>\n",
      "   <span class=\"num text-emphasized\">\n",
      "    1\n",
      "   </span>\n",
      "   commit\n",
      "  </a>\n",
      " </li>\n",
      " <li>\n",
      "  <a data-pjax=\"\" href=\"/NSS-Data-Analytics-Cohort-2/web-sraping-marathons-joelelle/branches\">\n",
      "   <svg aria-hidden=\"true\" class=\"octicon octicon-git-branch\" height=\"16\" version=\"1.1\" viewbox=\"0 0 10 16\" width=\"10\">\n",
      "    <path d=\"M10 5c0-1.11-.89-2-2-2a1.993 1.993 0 00-1 3.72v.3c-.02.52-.23.98-.63 1.38-.4.4-.86.61-1.38.63-.83.02-1.48.16-2 .45V4.72a1.993 1.993 0 00-1-3.72C.88 1 0 1.89 0 3a2 2 0 001 1.72v6.56c-.59.35-1 .99-1 1.72 0 1.11.89 2 2 2 1.11 0 2-.89 2-2 0-.53-.2-1-.53-1.36.09-.06.48-.41.59-.47.25-.11.56-.17.94-.17 1.05-.05 1.95-.45 2.75-1.25S8.95 7.77 9 6.73h-.02C9.59 6.37 10 5.73 10 5zM2 1.8c.66 0 1.2.55 1.2 1.2 0 .65-.55 1.2-1.2 1.2C1.35 4.2.8 3.65.8 3c0-.65.55-1.2 1.2-1.2zm0 12.41c-.66 0-1.2-.55-1.2-1.2 0-.65.55-1.2 1.2-1.2.65 0 1.2.55 1.2 1.2 0 .65-.55 1.2-1.2 1.2zm6-8c-.66 0-1.2-.55-1.2-1.2 0-.65.55-1.2 1.2-1.2.65 0 1.2.55 1.2 1.2 0 .65-.55 1.2-1.2 1.2z\" fill-rule=\"evenodd\">\n",
      "    </path>\n",
      "   </svg>\n",
      "   <span class=\"num text-emphasized\">\n",
      "    1\n",
      "   </span>\n",
      "   branch\n",
      "  </a>\n",
      " </li>\n",
      " <li>\n",
      "  <a data-ga-click=\"Repository, packages click, location:repo overview\" data-pjax=\"\" href=\"/NSS-Data-Analytics-Cohort-2/web-sraping-marathons-joelelle/packages\">\n",
      "   <svg aria-hidden=\"true\" class=\"octicon octicon-package\" height=\"16\" version=\"1.1\" viewbox=\"0 0 16 16\" width=\"16\">\n",
      "    <path d=\"M1 4.27v7.47c0 .45.3.84.75.97l6.5 1.73c.16.05.34.05.5 0l6.5-1.73c.45-.13.75-.52.75-.97V4.27c0-.45-.3-.84-.75-.97l-6.5-1.74a1.4 1.4 0 00-.5 0L1.75 3.3c-.45.13-.75.52-.75.97zm7 9.09l-6-1.59V5l6 1.61v6.75zM2 4l2.5-.67L11 5.06l-2.5.67L2 4zm13 7.77l-6 1.59V6.61l2-.55V8.5l2-.53V5.53L15 5v6.77zm-2-7.24L6.5 2.8l2-.53L15 4l-2 .53z\" fill-rule=\"evenodd\">\n",
      "    </path>\n",
      "   </svg>\n",
      "   <span class=\"num text-emphasized\">\n",
      "    0\n",
      "   </span>\n",
      "   packages\n",
      "  </a>\n",
      " </li>\n",
      " <li>\n",
      "  <a href=\"/NSS-Data-Analytics-Cohort-2/web-sraping-marathons-joelelle/releases\">\n",
      "   <svg aria-hidden=\"true\" class=\"octicon octicon-tag\" height=\"16\" version=\"1.1\" viewbox=\"0 0 15 16\" width=\"15\">\n",
      "    <path d=\"M7.73 1.73C7.26 1.26 6.62 1 5.96 1H3.5C2.13 1 1 2.13 1 3.5v2.47c0 .66.27 1.3.73 1.77l6.06 6.06c.39.39 1.02.39 1.41 0l4.59-4.59a.996.996 0 000-1.41L7.73 1.73zM2.38 7.09c-.31-.3-.47-.7-.47-1.13V3.5c0-.88.72-1.59 1.59-1.59h2.47c.42 0 .83.16 1.13.47l6.14 6.13-4.73 4.73-6.13-6.15zM3.01 3h2v2H3V3h.01z\" fill-rule=\"evenodd\">\n",
      "    </path>\n",
      "   </svg>\n",
      "   <span class=\"num text-emphasized\">\n",
      "    0\n",
      "   </span>\n",
      "   releases\n",
      "  </a>\n",
      " </li>\n",
      " <li>\n",
      "  <a href=\"/NSS-Data-Analytics-Cohort-2/web-sraping-marathons-joelelle/graphs/contributors\">\n",
      "   <svg aria-hidden=\"true\" class=\"octicon octicon-organization\" height=\"16\" version=\"1.1\" viewbox=\"0 0 16 16\" width=\"16\">\n",
      "    <path d=\"M16 12.999c0 .439-.45 1-1 1H7.995c-.539 0-.994-.447-.995-.999H1c-.54 0-1-.561-1-1 0-2.634 3-4 3-4s.229-.409 0-1c-.841-.621-1.058-.59-1-3 .058-2.419 1.367-3 2.5-3s2.442.58 2.5 3c.058 2.41-.159 2.379-1 3-.229.59 0 1 0 1s1.549.711 2.42 2.088C9.196 9.369 10 8.999 10 8.999s.229-.409 0-1c-.841-.62-1.058-.59-1-3 .058-2.419 1.367-3 2.5-3s2.437.581 2.495 3c.059 2.41-.158 2.38-1 3-.229.59 0 1 0 1s3.005 1.366 3.005 4z\" fill-rule=\"evenodd\">\n",
      "    </path>\n",
      "   </svg>\n",
      "   <span class=\"num text-emphasized\">\n",
      "    1\n",
      "   </span>\n",
      "   contributor\n",
      "  </a>\n",
      " </li>\n",
      "</ul>\n",
      "\n"
     ]
    }
   ],
   "source": [
    "numbers_summary = soup.find('ul', {'class': 'numbers-summary'})\n",
    "print(numbers_summary.prettify())"
   ]
  },
  {
   "cell_type": "code",
   "execution_count": 24,
   "metadata": {},
   "outputs": [],
   "source": [
    "metrics = []\n",
    "\n",
    "for li in numbers_summary.findAll('li'):\n",
    "    \n",
    "    # grabbing the text, and doing a little cleanup\n",
    "    metric = li.find('span', {'class': 'num'}).text \\\n",
    "        .replace('\\n', '') \\\n",
    "        .strip()\n",
    "    \n",
    "    # going ahead and casting it to an integer if something was found!\n",
    "    if metric:\n",
    "        metric = int(metric)\n",
    "    else:\n",
    "        metric = None\n",
    "    \n",
    "    metrics.append(metric)"
   ]
  },
  {
   "cell_type": "code",
   "execution_count": 25,
   "metadata": {},
   "outputs": [
    {
     "data": {
      "text/plain": [
       "[1, 1, 0, 0, 1]"
      ]
     },
     "execution_count": 25,
     "metadata": {},
     "output_type": "execute_result"
    }
   ],
   "source": [
    "metrics"
   ]
  },
  {
   "cell_type": "code",
   "execution_count": 26,
   "metadata": {},
   "outputs": [
    {
     "data": {
      "text/plain": [
       "(1, 1)"
      ]
     },
     "execution_count": 26,
     "metadata": {},
     "output_type": "execute_result"
    }
   ],
   "source": [
    "commits, branches, *_ = metrics\n",
    "commits, branches"
   ]
  },
  {
   "cell_type": "markdown",
   "metadata": {},
   "source": [
    "---\n",
    "\n",
    "### Goal 2.C\n",
    "\n",
    "Now, we put it all together! \n",
    "Just like before. \n",
    "This time, let's keep track of the repo link."
   ]
  },
  {
   "cell_type": "code",
   "execution_count": 27,
   "metadata": {},
   "outputs": [],
   "source": [
    "def get_numbers_summary(soup):\n",
    "    return soup.find('ul', {'class': 'numbers-summary'})\n",
    "\n",
    "\n",
    "def clean_metric(metric):\n",
    "    metric = metric \\\n",
    "        .replace('\\n', '') \\\n",
    "        .strip()\n",
    "    \n",
    "    if metric:\n",
    "        metric = int(metric)\n",
    "    else:\n",
    "        metric = None\n",
    "\n",
    "    return metric\n",
    "\n",
    "\n",
    "def get_metrics(numbers_summary):\n",
    "    metrics = []\n",
    "\n",
    "    for li in numbers_summary.findAll('li'):\n",
    "\n",
    "        # grabbing the text, and doing a little cleanup\n",
    "        metric = li.find('span', {'class': 'num'}).text\n",
    "        metrics.append(clean_metric(metric))\n",
    "        \n",
    "    return metrics"
   ]
  },
  {
   "cell_type": "code",
   "execution_count": 28,
   "metadata": {},
   "outputs": [
    {
     "data": {
      "text/plain": [
       "(1, 1)"
      ]
     },
     "execution_count": 28,
     "metadata": {},
     "output_type": "execute_result"
    }
   ],
   "source": [
    "# Check to make sure our functions work!\n",
    "numbers_summary = get_numbers_summary(soup)\n",
    "commits, branches, *_ = get_metrics(numbers_summary)\n",
    "commits, branches"
   ]
  },
  {
   "cell_type": "code",
   "execution_count": 29,
   "metadata": {},
   "outputs": [],
   "source": [
    "# Let's just look at our recent project.. HCBB\n",
    "\n",
    "hcbb_links = [l for l in all_links if 'healthcare-bluebook' in l]"
   ]
  },
  {
   "cell_type": "code",
   "execution_count": 30,
   "metadata": {},
   "outputs": [
    {
     "name": "stdout",
     "output_type": "stream",
     "text": [
      "Fetching website data for: https://github.com/NSS-Data-Analytics-Cohort-2/healthcare-bluebook-the-unquantifiables\n",
      "Fetching website data for: https://github.com/NSS-Data-Analytics-Cohort-2/healthcare-bluebook-project-bluebook\n",
      "Fetching website data for: https://github.com/NSS-Data-Analytics-Cohort-2/healthcare-bluebook-orange-team\n",
      "Fetching website data for: https://github.com/NSS-Data-Analytics-Cohort-2/healthcare-bluebook-red-team\n",
      "Fetching website data for: https://github.com/NSS-Data-Analytics-Cohort-2/healthcare-bluebook-blue-team\n",
      "Fetching website data for: https://github.com/NSS-Data-Analytics-Cohort-2/healthcare-bluebook-green-team\n",
      "Fetching website data for: https://github.com/NSS-Data-Analytics-Cohort-2/healthcare-bluebook-instructors\n"
     ]
    }
   ],
   "source": [
    "# Ok.. Functions work for one.. \n",
    "# Time to try a few of them!!\n",
    "results = []\n",
    "\n",
    "for repo_ref in hcbb_links:\n",
    "    \n",
    "    url = f'{GITHUB_URL}{repo_ref}'\n",
    "    soup = get_page_soup(url)\n",
    "    \n",
    "    numbers_summary = get_numbers_summary(soup)\n",
    "    commits, branches, *_, contributors = get_metrics(numbers_summary)\n",
    "    commits, branches, contributors\n",
    "    \n",
    "    results.append((repo_ref, commits, branches, contributors))"
   ]
  },
  {
   "cell_type": "code",
   "execution_count": 31,
   "metadata": {},
   "outputs": [
    {
     "data": {
      "text/plain": [
       "[('/NSS-Data-Analytics-Cohort-2/healthcare-bluebook-the-unquantifiables',\n",
       "  96,\n",
       "  5,\n",
       "  None),\n",
       " ('/NSS-Data-Analytics-Cohort-2/healthcare-bluebook-project-bluebook',\n",
       "  61,\n",
       "  3,\n",
       "  None),\n",
       " ('/NSS-Data-Analytics-Cohort-2/healthcare-bluebook-orange-team', 9, 5, None),\n",
       " ('/NSS-Data-Analytics-Cohort-2/healthcare-bluebook-red-team', 37, 4, None),\n",
       " ('/NSS-Data-Analytics-Cohort-2/healthcare-bluebook-blue-team', 27, 5, None),\n",
       " ('/NSS-Data-Analytics-Cohort-2/healthcare-bluebook-green-team', 19, 3, None),\n",
       " ('/NSS-Data-Analytics-Cohort-2/healthcare-bluebook-instructors', 7, 1, None)]"
      ]
     },
     "execution_count": 31,
     "metadata": {},
     "output_type": "execute_result"
    }
   ],
   "source": [
    "results"
   ]
  },
  {
   "cell_type": "markdown",
   "metadata": {},
   "source": [
    "---\n",
    "\n",
    "### Goal 3!!!\n",
    "\n",
    "Now, of course, pandas!"
   ]
  },
  {
   "cell_type": "code",
   "execution_count": 32,
   "metadata": {
    "scrolled": false
   },
   "outputs": [
    {
     "data": {
      "text/html": [
       "<div>\n",
       "<style scoped>\n",
       "    .dataframe tbody tr th:only-of-type {\n",
       "        vertical-align: middle;\n",
       "    }\n",
       "\n",
       "    .dataframe tbody tr th {\n",
       "        vertical-align: top;\n",
       "    }\n",
       "\n",
       "    .dataframe thead th {\n",
       "        text-align: right;\n",
       "    }\n",
       "</style>\n",
       "<table border=\"1\" class=\"dataframe\">\n",
       "  <thead>\n",
       "    <tr style=\"text-align: right;\">\n",
       "      <th></th>\n",
       "      <th>url</th>\n",
       "      <th>commits</th>\n",
       "      <th>branches</th>\n",
       "      <th>contributors</th>\n",
       "    </tr>\n",
       "  </thead>\n",
       "  <tbody>\n",
       "    <tr>\n",
       "      <th>0</th>\n",
       "      <td>/NSS-Data-Analytics-Cohort-2/healthcare-bluebo...</td>\n",
       "      <td>96</td>\n",
       "      <td>5</td>\n",
       "      <td>None</td>\n",
       "    </tr>\n",
       "    <tr>\n",
       "      <th>1</th>\n",
       "      <td>/NSS-Data-Analytics-Cohort-2/healthcare-bluebo...</td>\n",
       "      <td>61</td>\n",
       "      <td>3</td>\n",
       "      <td>None</td>\n",
       "    </tr>\n",
       "    <tr>\n",
       "      <th>2</th>\n",
       "      <td>/NSS-Data-Analytics-Cohort-2/healthcare-bluebo...</td>\n",
       "      <td>9</td>\n",
       "      <td>5</td>\n",
       "      <td>None</td>\n",
       "    </tr>\n",
       "    <tr>\n",
       "      <th>3</th>\n",
       "      <td>/NSS-Data-Analytics-Cohort-2/healthcare-bluebo...</td>\n",
       "      <td>37</td>\n",
       "      <td>4</td>\n",
       "      <td>None</td>\n",
       "    </tr>\n",
       "    <tr>\n",
       "      <th>4</th>\n",
       "      <td>/NSS-Data-Analytics-Cohort-2/healthcare-bluebo...</td>\n",
       "      <td>27</td>\n",
       "      <td>5</td>\n",
       "      <td>None</td>\n",
       "    </tr>\n",
       "    <tr>\n",
       "      <th>5</th>\n",
       "      <td>/NSS-Data-Analytics-Cohort-2/healthcare-bluebo...</td>\n",
       "      <td>19</td>\n",
       "      <td>3</td>\n",
       "      <td>None</td>\n",
       "    </tr>\n",
       "    <tr>\n",
       "      <th>6</th>\n",
       "      <td>/NSS-Data-Analytics-Cohort-2/healthcare-bluebo...</td>\n",
       "      <td>7</td>\n",
       "      <td>1</td>\n",
       "      <td>None</td>\n",
       "    </tr>\n",
       "  </tbody>\n",
       "</table>\n",
       "</div>"
      ],
      "text/plain": [
       "                                                 url  commits  branches  \\\n",
       "0  /NSS-Data-Analytics-Cohort-2/healthcare-bluebo...       96         5   \n",
       "1  /NSS-Data-Analytics-Cohort-2/healthcare-bluebo...       61         3   \n",
       "2  /NSS-Data-Analytics-Cohort-2/healthcare-bluebo...        9         5   \n",
       "3  /NSS-Data-Analytics-Cohort-2/healthcare-bluebo...       37         4   \n",
       "4  /NSS-Data-Analytics-Cohort-2/healthcare-bluebo...       27         5   \n",
       "5  /NSS-Data-Analytics-Cohort-2/healthcare-bluebo...       19         3   \n",
       "6  /NSS-Data-Analytics-Cohort-2/healthcare-bluebo...        7         1   \n",
       "\n",
       "  contributors  \n",
       "0         None  \n",
       "1         None  \n",
       "2         None  \n",
       "3         None  \n",
       "4         None  \n",
       "5         None  \n",
       "6         None  "
      ]
     },
     "execution_count": 32,
     "metadata": {},
     "output_type": "execute_result"
    }
   ],
   "source": [
    "import pandas as pd\n",
    "\n",
    "df = pd.DataFrame(results, columns=['url', 'commits', 'branches', 'contributors'])\n",
    "df"
   ]
  },
  {
   "cell_type": "code",
   "execution_count": null,
   "metadata": {},
   "outputs": [],
   "source": [
    "# The rest is for you to explore on your own time!"
   ]
  },
  {
   "cell_type": "code",
   "execution_count": null,
   "metadata": {},
   "outputs": [],
   "source": []
  }
 ],
 "metadata": {
  "kernelspec": {
   "display_name": "Python 3",
   "language": "python",
   "name": "python3"
  },
  "language_info": {
   "codemirror_mode": {
    "name": "ipython",
    "version": 3
   },
   "file_extension": ".py",
   "mimetype": "text/x-python",
   "name": "python",
   "nbconvert_exporter": "python",
   "pygments_lexer": "ipython3",
   "version": "3.7.6"
  }
 },
 "nbformat": 4,
 "nbformat_minor": 4
}
